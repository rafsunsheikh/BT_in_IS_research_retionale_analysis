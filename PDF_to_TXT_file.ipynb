{
  "cells": [
    {
      "cell_type": "markdown",
      "metadata": {
        "id": "view-in-github",
        "colab_type": "text"
      },
      "source": [
        "<a href=\"https://colab.research.google.com/github/rafsunsheikh/BT_in_IS_research_retionale_analysis/blob/main/PDF_to_TXT_file.ipynb\" target=\"_parent\"><img src=\"https://colab.research.google.com/assets/colab-badge.svg\" alt=\"Open In Colab\"/></a>"
      ]
    },
    {
      "cell_type": "code",
      "execution_count": null,
      "id": "b8d2c57b",
      "metadata": {
        "id": "b8d2c57b"
      },
      "outputs": [],
      "source": [
        "#pip install \"pdfminer.six==20200124\""
      ]
    },
    {
      "cell_type": "code",
      "execution_count": null,
      "id": "89526950",
      "metadata": {
        "id": "89526950"
      },
      "outputs": [],
      "source": [
        "# Import libraries\n",
        "import os\n",
        "import numpy as np\n",
        "import pandas as pd\n",
        "\n",
        "from pdfminer.pdfinterp import PDFResourceManager, PDFPageInterpreter\n",
        "from pdfminer.converter import TextConverter\n",
        "from pdfminer.layout import LAParams\n",
        "from pdfminer.pdfpage import PDFPage\n",
        "from io import StringIO\n",
        "\n",
        "from nltk.corpus import stopwords\n",
        "from nltk.collocations import TrigramCollocationFinder\n",
        "from nltk.collocations import QuadgramCollocationFinder"
      ]
    },
    {
      "cell_type": "code",
      "execution_count": null,
      "id": "5e5736c3",
      "metadata": {
        "id": "5e5736c3"
      },
      "outputs": [],
      "source": [
        "# Function to convert pdf file to text\n",
        "def convert_pdf_to_txt(path):\n",
        "    rsrcmgr = PDFResourceManager()\n",
        "    retstr = StringIO()\n",
        "    codec = 'utf-8'\n",
        "    laparams = LAParams()\n",
        "    device = TextConverter(rsrcmgr, retstr, codec=codec, laparams=laparams)\n",
        "    fp = open(path, 'rb')\n",
        "    interpreter = PDFPageInterpreter(rsrcmgr, device)\n",
        "    password = \"\"\n",
        "    maxpages = 0\n",
        "    caching = True\n",
        "    pagenos=set()\n",
        "\n",
        "    for page in PDFPage.get_pages(fp, pagenos, maxpages=maxpages, password=password,caching=caching, check_extractable=True):\n",
        "        interpreter.process_page(page)\n",
        "\n",
        "    text = retstr.getvalue()\n",
        "\n",
        "    fp.close()\n",
        "    device.close()\n",
        "    retstr.close()\n",
        "    return text"
      ]
    },
    {
      "cell_type": "code",
      "execution_count": null,
      "id": "497ef1a3",
      "metadata": {
        "id": "497ef1a3"
      },
      "outputs": [],
      "source": [
        "# Example for all pdf files in folder\n",
        "folder_path = ''\n",
        "\n",
        "if os.path.isdir(folder_path):\n",
        "    pdf_files = os.listdir(folder_path)\n",
        "    print(f'{len(pdf_files)} pdf file names identified for capture')\n",
        "else:\n",
        "    print('no pdf file names captured - please ensure folder path is a correct directory')"
      ]
    },
    {
      "cell_type": "code",
      "execution_count": null,
      "id": "27694e01",
      "metadata": {
        "id": "27694e01"
      },
      "outputs": [],
      "source": [
        "# Convert all pdf files to text\n",
        "result_file = []\n",
        "result_text = []\n",
        "\n",
        "for file in pdf_files:\n",
        "    try:\n",
        "        file_path = folder_path + file\n",
        "        text = convert_pdf_to_txt(file_path)\n",
        "        result_file.append(file)\n",
        "        result_text.append(text)\n",
        "    except:\n",
        "        pass\n",
        "\n",
        "print(f'text from {len(result_text)} out of {len(pdf_files)} pdf files have been captured')"
      ]
    },
    {
      "cell_type": "code",
      "execution_count": null,
      "id": "8d5c59a0",
      "metadata": {
        "id": "8d5c59a0"
      },
      "outputs": [],
      "source": [
        "# Place results to dataframe\n",
        "df_results = pd.DataFrame.from_dict({'file': result_file, 'text': result_text})\n",
        "df_results.head()"
      ]
    },
    {
      "cell_type": "code",
      "execution_count": null,
      "id": "f11a8b39",
      "metadata": {
        "id": "f11a8b39"
      },
      "outputs": [],
      "source": [
        "# Write results to csv (will write to where this notebook is saved)\n",
        "path_to_save_file = 'Lit1_file'\n",
        "df_results.to_csv(path_to_save_file, index=False)"
      ]
    },
    {
      "cell_type": "code",
      "execution_count": null,
      "id": "b8f655b4",
      "metadata": {
        "id": "b8f655b4"
      },
      "outputs": [],
      "source": [
        "# Write missed files to text file\n",
        "textfile = open(path_to_save_file + 'excluded_files.txt', 'w')\n",
        "for line in np.setdiff1d(pdf_files, result_file):\n",
        "    textfile.write(str(line) + \"\\n\")\n",
        "textfile.close()"
      ]
    },
    {
      "cell_type": "code",
      "execution_count": null,
      "id": "828d70c9",
      "metadata": {
        "id": "828d70c9"
      },
      "outputs": [],
      "source": [
        "pd.set_option(\"display.max_rows\", None, \"display.max_columns\", None)"
      ]
    },
    {
      "cell_type": "code",
      "execution_count": null,
      "id": "4527e7ff",
      "metadata": {
        "id": "4527e7ff"
      },
      "outputs": [],
      "source": [
        "print(df_results)"
      ]
    },
    {
      "cell_type": "code",
      "execution_count": null,
      "id": "3e1a6776",
      "metadata": {
        "id": "3e1a6776"
      },
      "outputs": [],
      "source": []
    }
  ],
  "metadata": {
    "kernelspec": {
      "display_name": "Python 3 (ipykernel)",
      "language": "python",
      "name": "python3"
    },
    "language_info": {
      "codemirror_mode": {
        "name": "ipython",
        "version": 3
      },
      "file_extension": ".py",
      "mimetype": "text/x-python",
      "name": "python",
      "nbconvert_exporter": "python",
      "pygments_lexer": "ipython3",
      "version": "3.8.8"
    },
    "colab": {
      "provenance": [],
      "include_colab_link": true
    }
  },
  "nbformat": 4,
  "nbformat_minor": 5
}